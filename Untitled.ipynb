{
 "cells": [
  {
   "cell_type": "code",
   "execution_count": 1,
   "id": "3495c98a",
   "metadata": {},
   "outputs": [
    {
     "name": "stdout",
     "output_type": "stream",
     "text": [
      "Requirement already satisfied: pdfplumber in c:\\users\\zlick3r\\anaconda3\\lib\\site-packages (0.11.4)\n",
      "Requirement already satisfied: pdfminer.six==20231228 in c:\\users\\zlick3r\\anaconda3\\lib\\site-packages (from pdfplumber) (20231228)\n",
      "Requirement already satisfied: Pillow>=9.1 in c:\\users\\zlick3r\\anaconda3\\lib\\site-packages (from pdfplumber) (9.4.0)\n",
      "Requirement already satisfied: pypdfium2>=4.18.0 in c:\\users\\zlick3r\\anaconda3\\lib\\site-packages (from pdfplumber) (4.30.0)\n",
      "Requirement already satisfied: charset-normalizer>=2.0.0 in c:\\users\\zlick3r\\anaconda3\\lib\\site-packages (from pdfminer.six==20231228->pdfplumber) (2.0.4)\n",
      "Requirement already satisfied: cryptography>=36.0.0 in c:\\users\\zlick3r\\anaconda3\\lib\\site-packages (from pdfminer.six==20231228->pdfplumber) (41.0.3)\n",
      "Requirement already satisfied: cffi>=1.12 in c:\\users\\zlick3r\\anaconda3\\lib\\site-packages (from cryptography>=36.0.0->pdfminer.six==20231228->pdfplumber) (1.15.1)\n",
      "Requirement already satisfied: pycparser in c:\\users\\zlick3r\\anaconda3\\lib\\site-packages (from cffi>=1.12->cryptography>=36.0.0->pdfminer.six==20231228->pdfplumber) (2.21)\n"
     ]
    }
   ],
   "source": [
    "!pip install pdfplumber"
   ]
  },
  {
   "cell_type": "code",
   "execution_count": 1,
   "id": "adc6cf4b",
   "metadata": {},
   "outputs": [
    {
     "data": {
      "text/plain": [
       "['.git',\n",
       " '.ipynb_checkpoints',\n",
       " 'parse',\n",
       " 'parsed',\n",
       " 'README.md',\n",
       " 'Untitled.ipynb']"
      ]
     },
     "execution_count": 1,
     "metadata": {},
     "output_type": "execute_result"
    }
   ],
   "source": [
    "import pdfplumber\n",
    "import os\n",
    "import pandas as pd\n",
    "import numpy as np\n",
    "\n",
    "os.listdir(\"./\")"
   ]
  },
  {
   "cell_type": "code",
   "execution_count": 2,
   "id": "7aec2397",
   "metadata": {},
   "outputs": [
    {
     "name": "stdout",
     "output_type": "stream",
     "text": [
      "Help on package pdfplumber:\n",
      "\n",
      "NAME\n",
      "    pdfplumber\n",
      "\n",
      "PACKAGE CONTENTS\n",
      "    _typing\n",
      "    _version\n",
      "    cli\n",
      "    container\n",
      "    convert\n",
      "    ctm\n",
      "    display\n",
      "    page\n",
      "    pdf\n",
      "    repair\n",
      "    structure\n",
      "    table\n",
      "    utils (package)\n",
      "\n",
      "FUNCTIONS\n",
      "    open(path_or_fp: Union[str, pathlib.Path, _io.BufferedReader, _io.BytesIO], pages: Union[List[int], Tuple[int], NoneType] = None, laparams: Optional[Dict[str, Any]] = None, password: Optional[str] = None, strict_metadata: bool = False, unicode_norm: Optional[Literal['NFC', 'NFKC', 'NFD', 'NFKD']] = None, repair: bool = False, gs_path: Union[str, pathlib.Path, NoneType] = None, repair_setting: Literal['default', 'prepress', 'printer', 'ebook', 'screen'] = 'default') -> 'PDF' method of builtins.type instance\n",
      "    \n",
      "    repair(path_or_fp: Union[str, pathlib.Path, _io.BufferedReader, _io.BytesIO], outfile: Union[str, pathlib.Path, NoneType] = None, password: Optional[str] = None, gs_path: Union[str, pathlib.Path, NoneType] = None, setting: Literal['default', 'prepress', 'printer', 'ebook', 'screen'] = 'default') -> Optional[_io.BytesIO]\n",
      "\n",
      "DATA\n",
      "    __all__ = ['__version__', 'utils', 'pdfminer', 'open', 'repair', 'set_...\n",
      "\n",
      "VERSION\n",
      "    0.11.4\n",
      "\n",
      "FILE\n",
      "    c:\\users\\zlick3r\\anaconda3\\lib\\site-packages\\pdfplumber\\__init__.py\n",
      "\n",
      "\n"
     ]
    }
   ],
   "source": [
    "help(pdfplumber)"
   ]
  },
  {
   "cell_type": "code",
   "execution_count": 3,
   "id": "61fa303c",
   "metadata": {},
   "outputs": [],
   "source": [
    "a = pdfplumber.open(\"./parse/agribank.pdf\")"
   ]
  },
  {
   "cell_type": "code",
   "execution_count": 4,
   "id": "cc0c0881",
   "metadata": {},
   "outputs": [
    {
     "name": "stdout",
     "output_type": "stream",
     "text": [
      "1\n"
     ]
    }
   ],
   "source": [
    "print(1)"
   ]
  },
  {
   "cell_type": "code",
   "execution_count": 5,
   "id": "9170416b",
   "metadata": {},
   "outputs": [
    {
     "name": "stdout",
     "output_type": "stream",
     "text": [
      "Help on Page in module pdfplumber.page object:\n",
      "\n",
      "class Page(pdfplumber.container.Container)\n",
      " |  Page(pdf: 'PDF', page_obj: pdfminer.pdfpage.PDFPage, page_number: int, initial_doctop: Union[int, float] = 0)\n",
      " |  \n",
      " |  Method resolution order:\n",
      " |      Page\n",
      " |      pdfplumber.container.Container\n",
      " |      builtins.object\n",
      " |  \n",
      " |  Methods defined here:\n",
      " |  \n",
      " |  __init__(self, pdf: 'PDF', page_obj: pdfminer.pdfpage.PDFPage, page_number: int, initial_doctop: Union[int, float] = 0)\n",
      " |      Initialize self.  See help(type(self)) for accurate signature.\n",
      " |  \n",
      " |  __repr__(self) -> str\n",
      " |      Return repr(self).\n",
      " |  \n",
      " |  close(self) -> None\n",
      " |  \n",
      " |  crop(self, bbox: Tuple[Union[int, float], Union[int, float], Union[int, float], Union[int, float]], relative: bool = False, strict: bool = True) -> 'CroppedPage'\n",
      " |  \n",
      " |  debug_tablefinder(self, table_settings: Union[ForwardRef('TableSettings'), Dict[str, Any], NoneType] = None) -> pdfplumber.table.TableFinder\n",
      " |  \n",
      " |  dedupe_chars(self, **kwargs: Any) -> 'FilteredPage'\n",
      " |      Removes duplicate chars — those sharing the same text and positioning\n",
      " |      (within `tolerance`) as other characters in the set. Adjust extra_args\n",
      " |      to be more/less restrictive with the properties checked.\n",
      " |  \n",
      " |  extract_table(self, table_settings: Union[ForwardRef('TableSettings'), Dict[str, Any], NoneType] = None) -> Optional[List[List[Optional[str]]]]\n",
      " |  \n",
      " |  extract_tables(self, table_settings: Union[ForwardRef('TableSettings'), Dict[str, Any], NoneType] = None) -> List[List[List[Optional[str]]]]\n",
      " |  \n",
      " |  extract_text(self, **kwargs: Any) -> str\n",
      " |  \n",
      " |  extract_text_lines(self, strip: bool = True, return_chars: bool = True, **kwargs: Any) -> List[Dict[str, Any]]\n",
      " |  \n",
      " |  extract_text_simple(self, **kwargs: Any) -> str\n",
      " |  \n",
      " |  extract_words(self, **kwargs: Any) -> List[Dict[str, Any]]\n",
      " |  \n",
      " |  filter(self, test_function: Callable[[Dict[str, Any]], bool]) -> 'FilteredPage'\n",
      " |  \n",
      " |  find_table(self, table_settings: Union[ForwardRef('TableSettings'), Dict[str, Any], NoneType] = None) -> Optional[pdfplumber.table.Table]\n",
      " |  \n",
      " |  find_tables(self, table_settings: Union[ForwardRef('TableSettings'), Dict[str, Any], NoneType] = None) -> List[pdfplumber.table.Table]\n",
      " |  \n",
      " |  iter_layout_objects(self, layout_objects: List[pdfminer.layout.LTComponent]) -> Generator[Dict[str, Any], NoneType, NoneType]\n",
      " |  \n",
      " |  outside_bbox(self, bbox: Tuple[Union[int, float], Union[int, float], Union[int, float], Union[int, float]], relative: bool = False, strict: bool = True) -> 'CroppedPage'\n",
      " |      Same as .crop, except only includes objects fully within the bbox\n",
      " |  \n",
      " |  parse_objects(self) -> Dict[str, List[Dict[str, Any]]]\n",
      " |  \n",
      " |  point2coord(self, pt: Tuple[Union[int, float], Union[int, float]]) -> Tuple[Union[int, float], Union[int, float]]\n",
      " |  \n",
      " |  process_object(self, obj: pdfminer.layout.LTItem) -> Dict[str, Any]\n",
      " |  \n",
      " |  search(self, pattern: Union[str, Pattern[str]], regex: bool = True, case: bool = True, main_group: int = 0, return_chars: bool = True, return_groups: bool = True, **kwargs: Any) -> List[Dict[str, Any]]\n",
      " |  \n",
      " |  to_dict(self, object_types: Optional[List[str]] = None) -> Dict[str, Any]\n",
      " |  \n",
      " |  to_image(self, resolution: Union[int, float, NoneType] = None, width: Union[int, float, NoneType] = None, height: Union[int, float, NoneType] = None, antialias: bool = False, force_mediabox: bool = False) -> 'PageImage'\n",
      " |      You can pass a maximum of 1 of the following:\n",
      " |      - resolution: The desired number pixels per inch. Defaults to 72.\n",
      " |      - width: The desired image width in pixels.\n",
      " |      - height: The desired image width in pixels.\n",
      " |  \n",
      " |  within_bbox(self, bbox: Tuple[Union[int, float], Union[int, float], Union[int, float], Union[int, float]], relative: bool = False, strict: bool = True) -> 'CroppedPage'\n",
      " |      Same as .crop, except only includes objects fully within the bbox\n",
      " |  \n",
      " |  ----------------------------------------------------------------------\n",
      " |  Readonly properties defined here:\n",
      " |  \n",
      " |  annots\n",
      " |  \n",
      " |  height\n",
      " |  \n",
      " |  hyperlinks\n",
      " |  \n",
      " |  layout\n",
      " |  \n",
      " |  objects\n",
      " |  \n",
      " |  structure_tree\n",
      " |      Return the structure tree for a page, if any.\n",
      " |  \n",
      " |  width\n",
      " |  \n",
      " |  ----------------------------------------------------------------------\n",
      " |  Data and other attributes defined here:\n",
      " |  \n",
      " |  __annotations__ = {'cached_properties': typing.List[str], 'is_original...\n",
      " |  \n",
      " |  cached_properties = ['_rect_edges', '_curve_edges', '_edges', '_object...\n",
      " |  \n",
      " |  is_original = True\n",
      " |  \n",
      " |  pages = None\n",
      " |  \n",
      " |  ----------------------------------------------------------------------\n",
      " |  Methods inherited from pdfplumber.container.Container:\n",
      " |  \n",
      " |  flush_cache(self, properties: Optional[List[str]] = None) -> None\n",
      " |  \n",
      " |  to_csv(self, stream: Optional[TextIO] = None, object_types: Optional[List[str]] = None, precision: Optional[int] = None, include_attrs: Optional[List[str]] = None, exclude_attrs: Optional[List[str]] = None) -> Optional[str]\n",
      " |  \n",
      " |  to_json(self, stream: Optional[TextIO] = None, object_types: Optional[List[str]] = None, include_attrs: Optional[List[str]] = None, exclude_attrs: Optional[List[str]] = None, precision: Optional[int] = None, indent: Optional[int] = None) -> Optional[str]\n",
      " |  \n",
      " |  ----------------------------------------------------------------------\n",
      " |  Readonly properties inherited from pdfplumber.container.Container:\n",
      " |  \n",
      " |  chars\n",
      " |  \n",
      " |  curve_edges\n",
      " |  \n",
      " |  curves\n",
      " |  \n",
      " |  edges\n",
      " |  \n",
      " |  horizontal_edges\n",
      " |  \n",
      " |  images\n",
      " |  \n",
      " |  lines\n",
      " |  \n",
      " |  rect_edges\n",
      " |  \n",
      " |  rects\n",
      " |  \n",
      " |  textboxhorizontals\n",
      " |  \n",
      " |  textboxverticals\n",
      " |  \n",
      " |  textlinehorizontals\n",
      " |  \n",
      " |  textlineverticals\n",
      " |  \n",
      " |  vertical_edges\n",
      " |  \n",
      " |  ----------------------------------------------------------------------\n",
      " |  Data descriptors inherited from pdfplumber.container.Container:\n",
      " |  \n",
      " |  __dict__\n",
      " |      dictionary for instance variables (if defined)\n",
      " |  \n",
      " |  __weakref__\n",
      " |      list of weak references to the object (if defined)\n",
      "\n",
      "None\n"
     ]
    }
   ],
   "source": [
    "for page in a.pages:\n",
    "    print(help(page))\n",
    "    break"
   ]
  },
  {
   "cell_type": "code",
   "execution_count": 12,
   "id": "3fc4d8ed",
   "metadata": {},
   "outputs": [
    {
     "name": "stdout",
     "output_type": "stream",
     "text": [
      "DONE!\n"
     ]
    }
   ],
   "source": [
    "for page in a.pages:\n",
    "    raw_table = page.extract_table()\n",
    "    raw_table = raw_table[1:]\n",
    "    try:\n",
    "        for date, remark, dr, _out, balance, ref in raw_table:\n",
    "            remark = str(remark.replace(\"\\n\", \" \"))\n",
    "            if \"|CASZLP|\" in remark:\n",
    "                _out = int(_out.split(\" \")[1].replace(\",\",\"\"))\n",
    "            else:\n",
    "                _out = int(_out.replace(\",\",\"\"))\n",
    "            full_value = [[date, remark, _out]]\n",
    "\n",
    "            selected = pd.DataFrame(full_value, columns=['date', 'remark', 'out'])\n",
    "\n",
    "            selected.to_csv('./var.csv', mode='a', index=False, header=False, encoding='utf-8-sig')\n",
    "    except:\n",
    "        with open(\"./error.txt\",\"a\") as f:\n",
    "            f.write(f\"Error {page}| {remark}| {_out}\")\n",
    "print(\"DONE!\")\n"
   ]
  },
  {
   "cell_type": "code",
   "execution_count": 13,
   "id": "882f920c",
   "metadata": {},
   "outputs": [],
   "source": [
    "df = pd.read_csv('./var.csv',header=None)"
   ]
  },
  {
   "cell_type": "code",
   "execution_count": 14,
   "id": "66203c74",
   "metadata": {},
   "outputs": [],
   "source": [
    "df.columns = ['datetime','remark','transaction']\n",
    "df.to_csv('./var.csv', index=False, encoding='utf-8-sig')"
   ]
  },
  {
   "cell_type": "code",
   "execution_count": 31,
   "id": "94bfd7e3",
   "metadata": {},
   "outputs": [
    {
     "name": "stdout",
     "output_type": "stream",
     "text": [
      "<class 'pandas.core.frame.DataFrame'>\n",
      "RangeIndex: 0 entries\n",
      "Empty DataFrame\n"
     ]
    }
   ],
   "source": []
  },
  {
   "cell_type": "code",
   "execution_count": 16,
   "id": "933b8250",
   "metadata": {},
   "outputs": [
    {
     "data": {
      "text/html": [
       "<div>\n",
       "<style scoped>\n",
       "    .dataframe tbody tr th:only-of-type {\n",
       "        vertical-align: middle;\n",
       "    }\n",
       "\n",
       "    .dataframe tbody tr th {\n",
       "        vertical-align: top;\n",
       "    }\n",
       "\n",
       "    .dataframe thead th {\n",
       "        text-align: right;\n",
       "    }\n",
       "</style>\n",
       "<table border=\"1\" class=\"dataframe\">\n",
       "  <thead>\n",
       "    <tr style=\"text-align: right;\">\n",
       "      <th></th>\n",
       "      <th>datetime</th>\n",
       "      <th>remark</th>\n",
       "      <th>transaction</th>\n",
       "    </tr>\n",
       "  </thead>\n",
       "  <tbody>\n",
       "    <tr>\n",
       "      <th>1</th>\n",
       "      <td>10/09/2024</td>\n",
       "      <td>NGUYEN THI HONG DUYEN ung ho cac tinh bi bao lu</td>\n",
       "      <td>50000</td>\n",
       "    </tr>\n",
       "    <tr>\n",
       "      <th>2</th>\n",
       "      <td>10/09/2024</td>\n",
       "      <td>Ung ho cac tinh bi bao lut</td>\n",
       "      <td>100000</td>\n",
       "    </tr>\n",
       "    <tr>\n",
       "      <th>3</th>\n",
       "      <td>10/09/2024</td>\n",
       "      <td>BUI THI NINH chuyen tien</td>\n",
       "      <td>100000</td>\n",
       "    </tr>\n",
       "    <tr>\n",
       "      <th>6</th>\n",
       "      <td>10/09/2024</td>\n",
       "      <td>Co len Viet Nam toi</td>\n",
       "      <td>50000</td>\n",
       "    </tr>\n",
       "    <tr>\n",
       "      <th>9</th>\n",
       "      <td>10/09/2024</td>\n",
       "      <td>Ung ho cac tinh bi bao luu</td>\n",
       "      <td>100000</td>\n",
       "    </tr>\n",
       "    <tr>\n",
       "      <th>...</th>\n",
       "      <td>...</td>\n",
       "      <td>...</td>\n",
       "      <td>...</td>\n",
       "    </tr>\n",
       "    <tr>\n",
       "      <th>42206</th>\n",
       "      <td>12/09/2024</td>\n",
       "      <td>ung ho dong bao lu lut Mien Bac FT24256070479260</td>\n",
       "      <td>50000</td>\n",
       "    </tr>\n",
       "    <tr>\n",
       "      <th>42207</th>\n",
       "      <td>12/09/2024</td>\n",
       "      <td>Nguyen Tieu My gui den ba con mien bac</td>\n",
       "      <td>100000</td>\n",
       "    </tr>\n",
       "    <tr>\n",
       "      <th>42208</th>\n",
       "      <td>12/09/2024</td>\n",
       "      <td>MBVCB.7017153202.138454.LUU THI MAI UNG HO CAC...</td>\n",
       "      <td>100000</td>\n",
       "    </tr>\n",
       "    <tr>\n",
       "      <th>42215</th>\n",
       "      <td>12/09/2024</td>\n",
       "      <td>MBVCB.7017167167.143609.Ung ho cac tinh bi bao...</td>\n",
       "      <td>100000</td>\n",
       "    </tr>\n",
       "    <tr>\n",
       "      <th>42217</th>\n",
       "      <td>12/09/2024</td>\n",
       "      <td>Ung ho cac tinh bi bao lu</td>\n",
       "      <td>50000</td>\n",
       "    </tr>\n",
       "  </tbody>\n",
       "</table>\n",
       "<p>13665 rows × 3 columns</p>\n",
       "</div>"
      ],
      "text/plain": [
       "         datetime                                             remark  \\\n",
       "1      10/09/2024    NGUYEN THI HONG DUYEN ung ho cac tinh bi bao lu   \n",
       "2      10/09/2024                         Ung ho cac tinh bi bao lut   \n",
       "3      10/09/2024                           BUI THI NINH chuyen tien   \n",
       "6      10/09/2024                                Co len Viet Nam toi   \n",
       "9      10/09/2024                         Ung ho cac tinh bi bao luu   \n",
       "...           ...                                                ...   \n",
       "42206  12/09/2024   ung ho dong bao lu lut Mien Bac FT24256070479260   \n",
       "42207  12/09/2024             Nguyen Tieu My gui den ba con mien bac   \n",
       "42208  12/09/2024  MBVCB.7017153202.138454.LUU THI MAI UNG HO CAC...   \n",
       "42215  12/09/2024  MBVCB.7017167167.143609.Ung ho cac tinh bi bao...   \n",
       "42217  12/09/2024                          Ung ho cac tinh bi bao lu   \n",
       "\n",
       "       transaction  \n",
       "1            50000  \n",
       "2           100000  \n",
       "3           100000  \n",
       "6            50000  \n",
       "9           100000  \n",
       "...            ...  \n",
       "42206        50000  \n",
       "42207       100000  \n",
       "42208       100000  \n",
       "42215       100000  \n",
       "42217        50000  \n",
       "\n",
       "[13665 rows x 3 columns]"
      ]
     },
     "execution_count": 16,
     "metadata": {},
     "output_type": "execute_result"
    }
   ],
   "source": [
    "df = pd.read_csv('./var.csv')\n",
    "df[df['transaction']<=100000]"
   ]
  },
  {
   "cell_type": "code",
   "execution_count": null,
   "id": "9d974ee6",
   "metadata": {},
   "outputs": [],
   "source": []
  }
 ],
 "metadata": {
  "kernelspec": {
   "display_name": "Python 3 (ipykernel)",
   "language": "python",
   "name": "python3"
  },
  "language_info": {
   "codemirror_mode": {
    "name": "ipython",
    "version": 3
   },
   "file_extension": ".py",
   "mimetype": "text/x-python",
   "name": "python",
   "nbconvert_exporter": "python",
   "pygments_lexer": "ipython3",
   "version": "3.11.5"
  }
 },
 "nbformat": 4,
 "nbformat_minor": 5
}
